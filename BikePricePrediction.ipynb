{
  "nbformat": 4,
  "nbformat_minor": 0,
  "metadata": {
    "colab": {
      "name": "AI final project 4.1.ipynb",
      "provenance": [],
      "collapsed_sections": []
    },
    "kernelspec": {
      "name": "python3",
      "display_name": "Python 3"
    },
    "language_info": {
      "name": "python"
    }
  },
  "cells": [
    {
      "cell_type": "code",
      "source": [
        "import pandas as pd\n",
        "import numpy as np\n",
        "import matplotlib.pyplot as plt\n",
        "import seaborn as sns\n",
        "from sklearn.model_selection import train_test_split\n",
        "from sklearn.linear_model import LinearRegression\n",
        "from sklearn.linear_model import Lasso\n",
        "from xgboost import XGBRegressor\n",
        "from sklearn import metrics\n",
        "from sklearn.svm import SVR\n",
        "from sklearn.linear_model import SGDRegressor\n",
        "from sklearn import linear_model\n",
        "from sklearn.preprocessing import MinMaxScaler"
      ],
      "metadata": {
        "id": "k0hFtsBoqZ5j"
      },
      "execution_count": 345,
      "outputs": []
    },
    {
      "cell_type": "code",
      "source": [
        "bike_dataset = pd.read_csv('Bike Price Dataset.csv')"
      ],
      "metadata": {
        "id": "M79E6rWVse9N"
      },
      "execution_count": 346,
      "outputs": []
    },
    {
      "cell_type": "code",
      "source": [
        "bike_dataset.head() "
      ],
      "metadata": {
        "colab": {
          "base_uri": "https://localhost:8080/",
          "height": 206
        },
        "id": "EpDvxh8EtoQ2",
        "outputId": "7014c34f-04ee-4b94-8586-ffb71108b894"
      },
      "execution_count": 347,
      "outputs": [
        {
          "output_type": "execute_result",
          "data": {
            "text/html": [
              "\n",
              "  <div id=\"df-8466589b-573b-4c7b-ac3f-d6eda3681b57\">\n",
              "    <div class=\"colab-df-container\">\n",
              "      <div>\n",
              "<style scoped>\n",
              "    .dataframe tbody tr th:only-of-type {\n",
              "        vertical-align: middle;\n",
              "    }\n",
              "\n",
              "    .dataframe tbody tr th {\n",
              "        vertical-align: top;\n",
              "    }\n",
              "\n",
              "    .dataframe thead th {\n",
              "        text-align: right;\n",
              "    }\n",
              "</style>\n",
              "<table border=\"1\" class=\"dataframe\">\n",
              "  <thead>\n",
              "    <tr style=\"text-align: right;\">\n",
              "      <th></th>\n",
              "      <th>Brand_Name</th>\n",
              "      <th>Model_Name</th>\n",
              "      <th>Brand_Origin</th>\n",
              "      <th>CC</th>\n",
              "      <th>Milage</th>\n",
              "      <th>Top_Speed</th>\n",
              "      <th>Category</th>\n",
              "      <th>Price</th>\n",
              "    </tr>\n",
              "  </thead>\n",
              "  <tbody>\n",
              "    <tr>\n",
              "      <th>0</th>\n",
              "      <td>BAJAJ</td>\n",
              "      <td>Glamour</td>\n",
              "      <td>India</td>\n",
              "      <td>124.7</td>\n",
              "      <td>81.1</td>\n",
              "      <td>90.0</td>\n",
              "      <td>Adventure</td>\n",
              "      <td>114490</td>\n",
              "    </tr>\n",
              "    <tr>\n",
              "      <th>1</th>\n",
              "      <td>BAJAJ</td>\n",
              "      <td>HF Deluxe Self</td>\n",
              "      <td>India</td>\n",
              "      <td>97.2</td>\n",
              "      <td>82.9</td>\n",
              "      <td>85.0</td>\n",
              "      <td>Adventure</td>\n",
              "      <td>94490</td>\n",
              "    </tr>\n",
              "    <tr>\n",
              "      <th>2</th>\n",
              "      <td>BAJAJ</td>\n",
              "      <td>Passion Xpro Disc</td>\n",
              "      <td>India</td>\n",
              "      <td>109.1</td>\n",
              "      <td>85.6</td>\n",
              "      <td>87.0</td>\n",
              "      <td>Adventure</td>\n",
              "      <td>106490</td>\n",
              "    </tr>\n",
              "    <tr>\n",
              "      <th>3</th>\n",
              "      <td>BAJAJ</td>\n",
              "      <td>Xtreme Sports Single Disc</td>\n",
              "      <td>India</td>\n",
              "      <td>149.2</td>\n",
              "      <td>65.1</td>\n",
              "      <td>107.0</td>\n",
              "      <td>Adventure</td>\n",
              "      <td>174900</td>\n",
              "    </tr>\n",
              "    <tr>\n",
              "      <th>4</th>\n",
              "      <td>BAJAJ</td>\n",
              "      <td>Ignitor</td>\n",
              "      <td>India</td>\n",
              "      <td>124.7</td>\n",
              "      <td>55.0</td>\n",
              "      <td>102.0</td>\n",
              "      <td>Air-Cooled</td>\n",
              "      <td>121490</td>\n",
              "    </tr>\n",
              "  </tbody>\n",
              "</table>\n",
              "</div>\n",
              "      <button class=\"colab-df-convert\" onclick=\"convertToInteractive('df-8466589b-573b-4c7b-ac3f-d6eda3681b57')\"\n",
              "              title=\"Convert this dataframe to an interactive table.\"\n",
              "              style=\"display:none;\">\n",
              "        \n",
              "  <svg xmlns=\"http://www.w3.org/2000/svg\" height=\"24px\"viewBox=\"0 0 24 24\"\n",
              "       width=\"24px\">\n",
              "    <path d=\"M0 0h24v24H0V0z\" fill=\"none\"/>\n",
              "    <path d=\"M18.56 5.44l.94 2.06.94-2.06 2.06-.94-2.06-.94-.94-2.06-.94 2.06-2.06.94zm-11 1L8.5 8.5l.94-2.06 2.06-.94-2.06-.94L8.5 2.5l-.94 2.06-2.06.94zm10 10l.94 2.06.94-2.06 2.06-.94-2.06-.94-.94-2.06-.94 2.06-2.06.94z\"/><path d=\"M17.41 7.96l-1.37-1.37c-.4-.4-.92-.59-1.43-.59-.52 0-1.04.2-1.43.59L10.3 9.45l-7.72 7.72c-.78.78-.78 2.05 0 2.83L4 21.41c.39.39.9.59 1.41.59.51 0 1.02-.2 1.41-.59l7.78-7.78 2.81-2.81c.8-.78.8-2.07 0-2.86zM5.41 20L4 18.59l7.72-7.72 1.47 1.35L5.41 20z\"/>\n",
              "  </svg>\n",
              "      </button>\n",
              "      \n",
              "  <style>\n",
              "    .colab-df-container {\n",
              "      display:flex;\n",
              "      flex-wrap:wrap;\n",
              "      gap: 12px;\n",
              "    }\n",
              "\n",
              "    .colab-df-convert {\n",
              "      background-color: #E8F0FE;\n",
              "      border: none;\n",
              "      border-radius: 50%;\n",
              "      cursor: pointer;\n",
              "      display: none;\n",
              "      fill: #1967D2;\n",
              "      height: 32px;\n",
              "      padding: 0 0 0 0;\n",
              "      width: 32px;\n",
              "    }\n",
              "\n",
              "    .colab-df-convert:hover {\n",
              "      background-color: #E2EBFA;\n",
              "      box-shadow: 0px 1px 2px rgba(60, 64, 67, 0.3), 0px 1px 3px 1px rgba(60, 64, 67, 0.15);\n",
              "      fill: #174EA6;\n",
              "    }\n",
              "\n",
              "    [theme=dark] .colab-df-convert {\n",
              "      background-color: #3B4455;\n",
              "      fill: #D2E3FC;\n",
              "    }\n",
              "\n",
              "    [theme=dark] .colab-df-convert:hover {\n",
              "      background-color: #434B5C;\n",
              "      box-shadow: 0px 1px 3px 1px rgba(0, 0, 0, 0.15);\n",
              "      filter: drop-shadow(0px 1px 2px rgba(0, 0, 0, 0.3));\n",
              "      fill: #FFFFFF;\n",
              "    }\n",
              "  </style>\n",
              "\n",
              "      <script>\n",
              "        const buttonEl =\n",
              "          document.querySelector('#df-8466589b-573b-4c7b-ac3f-d6eda3681b57 button.colab-df-convert');\n",
              "        buttonEl.style.display =\n",
              "          google.colab.kernel.accessAllowed ? 'block' : 'none';\n",
              "\n",
              "        async function convertToInteractive(key) {\n",
              "          const element = document.querySelector('#df-8466589b-573b-4c7b-ac3f-d6eda3681b57');\n",
              "          const dataTable =\n",
              "            await google.colab.kernel.invokeFunction('convertToInteractive',\n",
              "                                                     [key], {});\n",
              "          if (!dataTable) return;\n",
              "\n",
              "          const docLinkHtml = 'Like what you see? Visit the ' +\n",
              "            '<a target=\"_blank\" href=https://colab.research.google.com/notebooks/data_table.ipynb>data table notebook</a>'\n",
              "            + ' to learn more about interactive tables.';\n",
              "          element.innerHTML = '';\n",
              "          dataTable['output_type'] = 'display_data';\n",
              "          await google.colab.output.renderOutput(dataTable, element);\n",
              "          const docLink = document.createElement('div');\n",
              "          docLink.innerHTML = docLinkHtml;\n",
              "          element.appendChild(docLink);\n",
              "        }\n",
              "      </script>\n",
              "    </div>\n",
              "  </div>\n",
              "  "
            ],
            "text/plain": [
              "  Brand_Name                 Model_Name Brand_Origin     CC  Milage  \\\n",
              "0      BAJAJ                    Glamour        India  124.7    81.1   \n",
              "1      BAJAJ             HF Deluxe Self        India   97.2    82.9   \n",
              "2      BAJAJ          Passion Xpro Disc        India  109.1    85.6   \n",
              "3      BAJAJ  Xtreme Sports Single Disc        India  149.2    65.1   \n",
              "4      BAJAJ                    Ignitor        India  124.7    55.0   \n",
              "\n",
              "   Top_Speed    Category   Price  \n",
              "0       90.0   Adventure  114490  \n",
              "1       85.0   Adventure   94490  \n",
              "2       87.0   Adventure  106490  \n",
              "3      107.0   Adventure  174900  \n",
              "4      102.0  Air-Cooled  121490  "
            ]
          },
          "metadata": {},
          "execution_count": 347
        }
      ]
    },
    {
      "cell_type": "code",
      "source": [
        "print(bike_dataset.Brand_Name.value_counts())\n",
        "print(bike_dataset.Brand_Origin.value_counts())\n",
        "print(bike_dataset.Category.value_counts())"
      ],
      "metadata": {
        "colab": {
          "base_uri": "https://localhost:8080/"
        },
        "id": "oU5Mpy4WttZU",
        "outputId": "00cc3204-cdf2-42bb-c964-736586777a46"
      },
      "execution_count": 348,
      "outputs": [
        {
          "output_type": "stream",
          "name": "stdout",
          "text": [
            "RUNNER      36\n",
            "HONDA       34\n",
            "BAJAJ       32\n",
            "HERO        30\n",
            "H Power     30\n",
            "YAMAHA      26\n",
            "TVS         20\n",
            "Mahindra    17\n",
            "SUZUKI      16\n",
            "Keeway      13\n",
            "BMW         12\n",
            "Walton      12\n",
            "LIFAN       11\n",
            "APRILIA     11\n",
            "TVS\\n        1\n",
            "Name: Brand_Name, dtype: int64\n",
            "India         119\n",
            "Japan          67\n",
            "Bangladesh     58\n",
            "China          34\n",
            "Germany        12\n",
            "Italy‎         11\n",
            "Name: Brand_Origin, dtype: int64\n",
            "Standard          72\n",
            "Roadstar          64\n",
            "Naked             63\n",
            "Sport             42\n",
            "Scooter           23\n",
            "Street Bike       12\n",
            "Air-Cooled         7\n",
            "Cruiser            7\n",
            "Adventure          4\n",
            "Heritage           3\n",
            "Off Road           2\n",
            "Commuter           1\n",
            "Urban Mobility     1\n",
            "Name: Category, dtype: int64\n"
          ]
        }
      ]
    },
    {
      "cell_type": "markdown",
      "source": [
        "# **Encription**"
      ],
      "metadata": {
        "id": "8iZ2WhYsokV-"
      }
    },
    {
      "cell_type": "code",
      "source": [
        "bike_dataset.replace({'Brand_Name':{'HONDA':0,'BAJAJ':1,'H Power':2,'HERO':3,'YAMAHA':4,'RUNNER':5,'TVS':6,'TVS\\n':6,'SUZUKI':7,'Mahindra':8,\n",
        "                                    'Keeway':9,'Walton':10,'BMW':11,'APRILIA':12,'LIFAN':13}},inplace=True)\n",
        "bike_dataset.replace({'Brand_Origin':{'India':0,'Japan':1,'Bangladesh':2,'China':3,'Germany':4,'Italy‎':5}},inplace=True)\n",
        "bike_dataset.replace({'Category':{'Standard':0,'Sport':1,'Scooter':2,'Street Bike':3,'Air-Cooled':4,'Cruiser':5,\n",
        "                                  'Adventure':6,'Heritage':7,'Off Road':8,'Commuter':9,'Urban Mobility':10,'Naked':11,'Roadstar':12}},inplace=True)"
      ],
      "metadata": {
        "id": "bLd4blp5XVpG"
      },
      "execution_count": 349,
      "outputs": []
    },
    {
      "cell_type": "code",
      "source": [
        "bike_dataset"
      ],
      "metadata": {
        "id": "Tqcmv4k6bKvX",
        "colab": {
          "base_uri": "https://localhost:8080/",
          "height": 424
        },
        "outputId": "0a045565-ff31-40b0-84f8-8faec497a64c"
      },
      "execution_count": 350,
      "outputs": [
        {
          "output_type": "execute_result",
          "data": {
            "text/html": [
              "\n",
              "  <div id=\"df-f0d95ed9-4c70-4d63-a37d-123491510342\">\n",
              "    <div class=\"colab-df-container\">\n",
              "      <div>\n",
              "<style scoped>\n",
              "    .dataframe tbody tr th:only-of-type {\n",
              "        vertical-align: middle;\n",
              "    }\n",
              "\n",
              "    .dataframe tbody tr th {\n",
              "        vertical-align: top;\n",
              "    }\n",
              "\n",
              "    .dataframe thead th {\n",
              "        text-align: right;\n",
              "    }\n",
              "</style>\n",
              "<table border=\"1\" class=\"dataframe\">\n",
              "  <thead>\n",
              "    <tr style=\"text-align: right;\">\n",
              "      <th></th>\n",
              "      <th>Brand_Name</th>\n",
              "      <th>Model_Name</th>\n",
              "      <th>Brand_Origin</th>\n",
              "      <th>CC</th>\n",
              "      <th>Milage</th>\n",
              "      <th>Top_Speed</th>\n",
              "      <th>Category</th>\n",
              "      <th>Price</th>\n",
              "    </tr>\n",
              "  </thead>\n",
              "  <tbody>\n",
              "    <tr>\n",
              "      <th>0</th>\n",
              "      <td>1</td>\n",
              "      <td>Glamour</td>\n",
              "      <td>0</td>\n",
              "      <td>124.7</td>\n",
              "      <td>81.1</td>\n",
              "      <td>90.0</td>\n",
              "      <td>6</td>\n",
              "      <td>114490</td>\n",
              "    </tr>\n",
              "    <tr>\n",
              "      <th>1</th>\n",
              "      <td>1</td>\n",
              "      <td>HF Deluxe Self</td>\n",
              "      <td>0</td>\n",
              "      <td>97.2</td>\n",
              "      <td>82.9</td>\n",
              "      <td>85.0</td>\n",
              "      <td>6</td>\n",
              "      <td>94490</td>\n",
              "    </tr>\n",
              "    <tr>\n",
              "      <th>2</th>\n",
              "      <td>1</td>\n",
              "      <td>Passion Xpro Disc</td>\n",
              "      <td>0</td>\n",
              "      <td>109.1</td>\n",
              "      <td>85.6</td>\n",
              "      <td>87.0</td>\n",
              "      <td>6</td>\n",
              "      <td>106490</td>\n",
              "    </tr>\n",
              "    <tr>\n",
              "      <th>3</th>\n",
              "      <td>1</td>\n",
              "      <td>Xtreme Sports Single Disc</td>\n",
              "      <td>0</td>\n",
              "      <td>149.2</td>\n",
              "      <td>65.1</td>\n",
              "      <td>107.0</td>\n",
              "      <td>6</td>\n",
              "      <td>174900</td>\n",
              "    </tr>\n",
              "    <tr>\n",
              "      <th>4</th>\n",
              "      <td>1</td>\n",
              "      <td>Ignitor</td>\n",
              "      <td>0</td>\n",
              "      <td>124.7</td>\n",
              "      <td>55.0</td>\n",
              "      <td>102.0</td>\n",
              "      <td>4</td>\n",
              "      <td>121490</td>\n",
              "    </tr>\n",
              "    <tr>\n",
              "      <th>...</th>\n",
              "      <td>...</td>\n",
              "      <td>...</td>\n",
              "      <td>...</td>\n",
              "      <td>...</td>\n",
              "      <td>...</td>\n",
              "      <td>...</td>\n",
              "      <td>...</td>\n",
              "      <td>...</td>\n",
              "    </tr>\n",
              "    <tr>\n",
              "      <th>296</th>\n",
              "      <td>10</td>\n",
              "      <td>Fusion 110</td>\n",
              "      <td>2</td>\n",
              "      <td>107.0</td>\n",
              "      <td>45.0</td>\n",
              "      <td>90.0</td>\n",
              "      <td>3</td>\n",
              "      <td>100000</td>\n",
              "    </tr>\n",
              "    <tr>\n",
              "      <th>297</th>\n",
              "      <td>10</td>\n",
              "      <td>Cruize</td>\n",
              "      <td>2</td>\n",
              "      <td>97.0</td>\n",
              "      <td>45.0</td>\n",
              "      <td>80.0</td>\n",
              "      <td>3</td>\n",
              "      <td>81000</td>\n",
              "    </tr>\n",
              "    <tr>\n",
              "      <th>298</th>\n",
              "      <td>10</td>\n",
              "      <td>Stylex Plus</td>\n",
              "      <td>2</td>\n",
              "      <td>97.0</td>\n",
              "      <td>70.0</td>\n",
              "      <td>80.0</td>\n",
              "      <td>3</td>\n",
              "      <td>85000</td>\n",
              "    </tr>\n",
              "    <tr>\n",
              "      <th>299</th>\n",
              "      <td>10</td>\n",
              "      <td>Stylex</td>\n",
              "      <td>2</td>\n",
              "      <td>98.0</td>\n",
              "      <td>45.0</td>\n",
              "      <td>80.0</td>\n",
              "      <td>3</td>\n",
              "      <td>65550</td>\n",
              "    </tr>\n",
              "    <tr>\n",
              "      <th>300</th>\n",
              "      <td>10</td>\n",
              "      <td>Fusion 125 EX</td>\n",
              "      <td>2</td>\n",
              "      <td>125.0</td>\n",
              "      <td>45.0</td>\n",
              "      <td>100.0</td>\n",
              "      <td>10</td>\n",
              "      <td>95500</td>\n",
              "    </tr>\n",
              "  </tbody>\n",
              "</table>\n",
              "<p>301 rows × 8 columns</p>\n",
              "</div>\n",
              "      <button class=\"colab-df-convert\" onclick=\"convertToInteractive('df-f0d95ed9-4c70-4d63-a37d-123491510342')\"\n",
              "              title=\"Convert this dataframe to an interactive table.\"\n",
              "              style=\"display:none;\">\n",
              "        \n",
              "  <svg xmlns=\"http://www.w3.org/2000/svg\" height=\"24px\"viewBox=\"0 0 24 24\"\n",
              "       width=\"24px\">\n",
              "    <path d=\"M0 0h24v24H0V0z\" fill=\"none\"/>\n",
              "    <path d=\"M18.56 5.44l.94 2.06.94-2.06 2.06-.94-2.06-.94-.94-2.06-.94 2.06-2.06.94zm-11 1L8.5 8.5l.94-2.06 2.06-.94-2.06-.94L8.5 2.5l-.94 2.06-2.06.94zm10 10l.94 2.06.94-2.06 2.06-.94-2.06-.94-.94-2.06-.94 2.06-2.06.94z\"/><path d=\"M17.41 7.96l-1.37-1.37c-.4-.4-.92-.59-1.43-.59-.52 0-1.04.2-1.43.59L10.3 9.45l-7.72 7.72c-.78.78-.78 2.05 0 2.83L4 21.41c.39.39.9.59 1.41.59.51 0 1.02-.2 1.41-.59l7.78-7.78 2.81-2.81c.8-.78.8-2.07 0-2.86zM5.41 20L4 18.59l7.72-7.72 1.47 1.35L5.41 20z\"/>\n",
              "  </svg>\n",
              "      </button>\n",
              "      \n",
              "  <style>\n",
              "    .colab-df-container {\n",
              "      display:flex;\n",
              "      flex-wrap:wrap;\n",
              "      gap: 12px;\n",
              "    }\n",
              "\n",
              "    .colab-df-convert {\n",
              "      background-color: #E8F0FE;\n",
              "      border: none;\n",
              "      border-radius: 50%;\n",
              "      cursor: pointer;\n",
              "      display: none;\n",
              "      fill: #1967D2;\n",
              "      height: 32px;\n",
              "      padding: 0 0 0 0;\n",
              "      width: 32px;\n",
              "    }\n",
              "\n",
              "    .colab-df-convert:hover {\n",
              "      background-color: #E2EBFA;\n",
              "      box-shadow: 0px 1px 2px rgba(60, 64, 67, 0.3), 0px 1px 3px 1px rgba(60, 64, 67, 0.15);\n",
              "      fill: #174EA6;\n",
              "    }\n",
              "\n",
              "    [theme=dark] .colab-df-convert {\n",
              "      background-color: #3B4455;\n",
              "      fill: #D2E3FC;\n",
              "    }\n",
              "\n",
              "    [theme=dark] .colab-df-convert:hover {\n",
              "      background-color: #434B5C;\n",
              "      box-shadow: 0px 1px 3px 1px rgba(0, 0, 0, 0.15);\n",
              "      filter: drop-shadow(0px 1px 2px rgba(0, 0, 0, 0.3));\n",
              "      fill: #FFFFFF;\n",
              "    }\n",
              "  </style>\n",
              "\n",
              "      <script>\n",
              "        const buttonEl =\n",
              "          document.querySelector('#df-f0d95ed9-4c70-4d63-a37d-123491510342 button.colab-df-convert');\n",
              "        buttonEl.style.display =\n",
              "          google.colab.kernel.accessAllowed ? 'block' : 'none';\n",
              "\n",
              "        async function convertToInteractive(key) {\n",
              "          const element = document.querySelector('#df-f0d95ed9-4c70-4d63-a37d-123491510342');\n",
              "          const dataTable =\n",
              "            await google.colab.kernel.invokeFunction('convertToInteractive',\n",
              "                                                     [key], {});\n",
              "          if (!dataTable) return;\n",
              "\n",
              "          const docLinkHtml = 'Like what you see? Visit the ' +\n",
              "            '<a target=\"_blank\" href=https://colab.research.google.com/notebooks/data_table.ipynb>data table notebook</a>'\n",
              "            + ' to learn more about interactive tables.';\n",
              "          element.innerHTML = '';\n",
              "          dataTable['output_type'] = 'display_data';\n",
              "          await google.colab.output.renderOutput(dataTable, element);\n",
              "          const docLink = document.createElement('div');\n",
              "          docLink.innerHTML = docLinkHtml;\n",
              "          element.appendChild(docLink);\n",
              "        }\n",
              "      </script>\n",
              "    </div>\n",
              "  </div>\n",
              "  "
            ],
            "text/plain": [
              "     Brand_Name                 Model_Name  Brand_Origin     CC  Milage  \\\n",
              "0             1                    Glamour             0  124.7    81.1   \n",
              "1             1             HF Deluxe Self             0   97.2    82.9   \n",
              "2             1          Passion Xpro Disc             0  109.1    85.6   \n",
              "3             1  Xtreme Sports Single Disc             0  149.2    65.1   \n",
              "4             1                    Ignitor             0  124.7    55.0   \n",
              "..          ...                        ...           ...    ...     ...   \n",
              "296          10                 Fusion 110             2  107.0    45.0   \n",
              "297          10                     Cruize             2   97.0    45.0   \n",
              "298          10                Stylex Plus             2   97.0    70.0   \n",
              "299          10                     Stylex             2   98.0    45.0   \n",
              "300          10              Fusion 125 EX             2  125.0    45.0   \n",
              "\n",
              "     Top_Speed  Category   Price  \n",
              "0         90.0         6  114490  \n",
              "1         85.0         6   94490  \n",
              "2         87.0         6  106490  \n",
              "3        107.0         6  174900  \n",
              "4        102.0         4  121490  \n",
              "..         ...       ...     ...  \n",
              "296       90.0         3  100000  \n",
              "297       80.0         3   81000  \n",
              "298       80.0         3   85000  \n",
              "299       80.0         3   65550  \n",
              "300      100.0        10   95500  \n",
              "\n",
              "[301 rows x 8 columns]"
            ]
          },
          "metadata": {},
          "execution_count": 350
        }
      ]
    },
    {
      "cell_type": "code",
      "source": [
        "# X = bike_dataset.drop(['Model_Name','Price'],axis=1)\n",
        "# Y = bike_dataset['Price']"
      ],
      "metadata": {
        "id": "Z3Uu_fdsbggc"
      },
      "execution_count": 351,
      "outputs": []
    },
    {
      "cell_type": "code",
      "source": [
        "# print(X)"
      ],
      "metadata": {
        "id": "bIKKASDxbtPQ"
      },
      "execution_count": 352,
      "outputs": []
    },
    {
      "cell_type": "code",
      "source": [
        "# print(Y)"
      ],
      "metadata": {
        "id": "fiF7qwdSb-9C"
      },
      "execution_count": 353,
      "outputs": []
    },
    {
      "cell_type": "markdown",
      "source": [
        "# **Normalization**"
      ],
      "metadata": {
        "id": "RB2lq_oUnA__"
      }
    },
    {
      "cell_type": "code",
      "source": [
        "# feature_columns = ['Brand_Name', 'Brand_Origin', 'CC', 'Milage' , 'Top_Speed', 'Category']\n",
        "# test = bike_dataset\n",
        "# target_price = pd.DataFrame(test['Price'])\n",
        "# from sklearn.preprocessing import MinMaxScaler\n",
        "# scaler = MinMaxScaler()\n",
        "# feature_minmax_transform_data = scaler.fit_transform(test[feature_columns])\n",
        "# feature_minmax_transform = pd.DataFrame(columns=feature_columns, data=feature_minmax_transform_data, index=test.index)\n",
        "# feature_minmax_transform.head()"
      ],
      "metadata": {
        "id": "gYTCDeT_vyDz"
      },
      "execution_count": 354,
      "outputs": []
    },
    {
      "cell_type": "code",
      "source": [
        "# X_train, X_test, Y_train, Y_test = train_test_split(feature_minmax_transform_data, target_price, test_size = 0.3, random_state=2)\n",
        "# X_train.shape,Y_train.shape,X_test.shape,Y_test.shape"
      ],
      "metadata": {
        "id": "glGEXaiykUwD"
      },
      "execution_count": 355,
      "outputs": []
    },
    {
      "cell_type": "code",
      "source": [
        "X = bike_dataset.iloc[:,[0,2,3,4,5,6]]\n",
        "Y = bike_dataset.iloc[:,[7]]\n",
        "x_train, x_test, Y_train, Y_test = train_test_split(X, Y, test_size = 0.3, random_state=42)\n"
      ],
      "metadata": {
        "id": "aaSFTnkM9O92"
      },
      "execution_count": 356,
      "outputs": []
    },
    {
      "cell_type": "code",
      "source": [
        "scaler = MinMaxScaler().fit(x_train)\n",
        "X_train = scaler.transform(x_train)\n",
        "scaler = MinMaxScaler().fit(x_test)\n",
        "X_test = scaler.transform(x_test)"
      ],
      "metadata": {
        "id": "f5psG36-_GwS"
      },
      "execution_count": 357,
      "outputs": []
    },
    {
      "cell_type": "markdown",
      "source": [
        "# **Linear Regression**"
      ],
      "metadata": {
        "id": "me00ggso3_OV"
      }
    },
    {
      "cell_type": "code",
      "source": [
        "lin_reg_model = LinearRegression()"
      ],
      "metadata": {
        "id": "clgiP3zhcNmg"
      },
      "execution_count": 358,
      "outputs": []
    },
    {
      "cell_type": "code",
      "source": [
        "lin_reg_model.fit(X_train,Y_train)"
      ],
      "metadata": {
        "colab": {
          "base_uri": "https://localhost:8080/"
        },
        "id": "yeGndKIHcW-9",
        "outputId": "27c37017-3e8f-475b-fdb1-f70c126f6ee8"
      },
      "execution_count": 359,
      "outputs": [
        {
          "output_type": "execute_result",
          "data": {
            "text/plain": [
              "LinearRegression()"
            ]
          },
          "metadata": {},
          "execution_count": 359
        }
      ]
    },
    {
      "cell_type": "code",
      "source": [
        "training_data_prediction = lin_reg_model.predict(X_train)"
      ],
      "metadata": {
        "id": "CFWKeUpBmqfB"
      },
      "execution_count": 360,
      "outputs": []
    },
    {
      "cell_type": "code",
      "source": [
        "RSME_score = np.sqrt(metrics.mean_squared_error(Y_train, training_data_prediction))\n",
        "print('RMSE: ', RSME_score)\n",
        "\n",
        "MAE_score = np.sqrt(metrics.mean_absolute_error(Y_train, training_data_prediction))\n",
        "print('Mean Absolute Error: ', MAE_score)\n",
        "\n",
        "\n",
        "MSE_score = metrics.mean_squared_error(Y_train, training_data_prediction)\n",
        "print('Mean Squared Error: ', MSE_score)\n",
        "\n",
        "\n",
        "R2_score = metrics.r2_score(Y_train, training_data_prediction)\n",
        "print('R2 score: ', R2_score)"
      ],
      "metadata": {
        "colab": {
          "base_uri": "https://localhost:8080/"
        },
        "id": "8yD7W3yPmxGm",
        "outputId": "4de02a83-019c-4bc8-9cef-a8103683a9b0"
      },
      "execution_count": 361,
      "outputs": [
        {
          "output_type": "stream",
          "name": "stdout",
          "text": [
            "RMSE:  103189.73376236022\n",
            "Mean Absolute Error:  265.543373134415\n",
            "Mean Squared Error:  10648121153.946785\n",
            "R2 score:  0.9085288387826236\n"
          ]
        }
      ]
    },
    {
      "cell_type": "code",
      "source": [
        "plt.scatter(Y_train, training_data_prediction)\n",
        "plt.xlabel(\"Actual Price\")\n",
        "plt.ylabel(\"Predicted Price\")\n",
        "plt.title(\" Actual Prices vs Predicted Prices\")\n",
        "plt.show()"
      ],
      "metadata": {
        "colab": {
          "base_uri": "https://localhost:8080/",
          "height": 295
        },
        "id": "0h-zsdTpm1wD",
        "outputId": "772be4db-b215-4d89-aab2-09ba6fbfc9ae"
      },
      "execution_count": 362,
      "outputs": [
        {
          "output_type": "display_data",
          "data": {
            "image/png": "[encoded data removed]",
            "text/plain": [
              "<Figure size 432x288 with 1 Axes>"
            ]
          },
          "metadata": {
            "needs_background": "light"
          }
        }
      ]
    },
    {
      "cell_type": "code",
      "source": [
        "test_data_prediction = lin_reg_model.predict(X_test)"
      ],
      "metadata": {
        "id": "DkoaKt6Mn7ll"
      },
      "execution_count": 363,
      "outputs": []
    },
    {
      "cell_type": "code",
      "source": [
        "RSME_score = np.sqrt(metrics.mean_squared_error(Y_test, test_data_prediction))\n",
        "print('RMSE: ', RSME_score)\n",
        "\n",
        "MAE_score = np.sqrt(metrics.mean_absolute_error(Y_test, test_data_prediction))\n",
        "print('Mean Absolute Error: ', MAE_score)\n",
        "\n",
        "\n",
        "MSE_score = metrics.mean_squared_error(Y_test, test_data_prediction)\n",
        "print('Mean Squared Error: ', MSE_score)\n",
        "\n",
        "\n",
        "R2_score = metrics.r2_score(Y_test, test_data_prediction)\n",
        "print('R2 score: ', R2_score)"
      ],
      "metadata": {
        "colab": {
          "base_uri": "https://localhost:8080/"
        },
        "id": "qvnLnuZhn_dP",
        "outputId": "76aff1b5-1734-4de4-bedd-3c9bbb77ef0a"
      },
      "execution_count": 364,
      "outputs": [
        {
          "output_type": "stream",
          "name": "stdout",
          "text": [
            "RMSE:  284011.9614436008\n",
            "Mean Absolute Error:  325.4567374257231\n",
            "Mean Squared Error:  80662794243.0414\n",
            "R2 score:  0.7002364564097889\n"
          ]
        }
      ]
    },
    {
      "cell_type": "code",
      "source": [
        "plt.scatter(Y_test, test_data_prediction)\n",
        "plt.xlabel(\"Actual Price\")\n",
        "plt.ylabel(\"Predicted Price\")\n",
        "plt.title(\" Actual Prices vs Predicted Prices\")\n",
        "plt.show()"
      ],
      "metadata": {
        "id": "_Mq0EJARoKgs",
        "colab": {
          "base_uri": "https://localhost:8080/",
          "height": 295
        },
        "outputId": "7d0a7cde-e12a-4742-d082-7cc1ab43251b"
      },
      "execution_count": 365,
      "outputs": [
        {
          "output_type": "display_data",
          "data": {
            "image/png": "[encoded data removed]",
            "text/plain": [
              "<Figure size 432x288 with 1 Axes>"
            ]
          },
          "metadata": {
            "needs_background": "light"
          }
        }
      ]
    },
    {
      "cell_type": "markdown",
      "source": [
        "# **Lasso Regression**"
      ],
      "metadata": {
        "id": "CF0mx0ENlANh"
      }
    },
    {
      "cell_type": "code",
      "source": [
        "lass_reg_model = Lasso()"
      ],
      "metadata": {
        "id": "H9_9Kyebk5ry"
      },
      "execution_count": 366,
      "outputs": []
    },
    {
      "cell_type": "code",
      "source": [
        "lass_reg_model.fit(X_train,Y_train)"
      ],
      "metadata": {
        "colab": {
          "base_uri": "https://localhost:8080/"
        },
        "id": "oAApPPXulXwV",
        "outputId": "7c5d2eef-ae8f-450c-c612-3f580e73e967"
      },
      "execution_count": 367,
      "outputs": [
        {
          "output_type": "execute_result",
          "data": {
            "text/plain": [
              "Lasso()"
            ]
          },
          "metadata": {},
          "execution_count": 367
        }
      ]
    },
    {
      "cell_type": "code",
      "source": [
        "training_data_prediction = lass_reg_model.predict(X_train)"
      ],
      "metadata": {
        "id": "kwQ7AG7clbVR"
      },
      "execution_count": 368,
      "outputs": []
    },
    {
      "cell_type": "code",
      "source": [
        "RSME_score = np.sqrt(metrics.mean_squared_error(Y_train, training_data_prediction))\n",
        "print('RMSE: ', RSME_score)\n",
        "\n",
        "MAE_score = np.sqrt(metrics.mean_absolute_error(Y_train, training_data_prediction))\n",
        "print('Mean Absolute Error: ', MAE_score)\n",
        "\n",
        "\n",
        "MSE_score = metrics.mean_squared_error(Y_train, training_data_prediction)\n",
        "print('Mean Squared Error: ', MSE_score)\n",
        "\n",
        "\n",
        "R2_score = metrics.r2_score(Y_train, training_data_prediction)\n",
        "print('R2 score: ', R2_score)"
      ],
      "metadata": {
        "colab": {
          "base_uri": "https://localhost:8080/"
        },
        "id": "oWHCXHiplzV9",
        "outputId": "aa30639f-3a79-4aac-e5cb-a14919f97236"
      },
      "execution_count": 369,
      "outputs": [
        {
          "output_type": "stream",
          "name": "stdout",
          "text": [
            "RMSE:  103189.73483725604\n",
            "Mean Absolute Error:  265.5413691324818\n",
            "Mean Squared Error:  10648121375.78321\n",
            "R2 score:  0.9085288368769695\n"
          ]
        }
      ]
    },
    {
      "cell_type": "code",
      "source": [
        "plt.scatter(Y_train, training_data_prediction)\n",
        "plt.xlabel(\"Actual Price\")\n",
        "plt.ylabel(\"Predicted Price\")\n",
        "plt.title(\" Actual Prices vs Predicted Prices\")\n",
        "plt.show()"
      ],
      "metadata": {
        "id": "-4WZ2VLHl_Db",
        "colab": {
          "base_uri": "https://localhost:8080/",
          "height": 295
        },
        "outputId": "be756a79-a75b-412d-82e3-901517001e3c"
      },
      "execution_count": 370,
      "outputs": [
        {
          "output_type": "display_data",
          "data": {
            "image/png": "[encoded data removed]",
            "text/plain": [
              "<Figure size 432x288 with 1 Axes>"
            ]
          },
          "metadata": {
            "needs_background": "light"
          }
        }
      ]
    },
    {
      "cell_type": "code",
      "source": [
        "test_data_prediction = lass_reg_model.predict(X_test)"
      ],
      "metadata": {
        "id": "sJ4fm5lmmUUS"
      },
      "execution_count": 371,
      "outputs": []
    },
    {
      "cell_type": "code",
      "source": [
        "RSME_score = np.sqrt(metrics.mean_squared_error(Y_test, test_data_prediction))\n",
        "print('RMSE: ', RSME_score)\n",
        "\n",
        "MAE_score = np.sqrt(metrics.mean_absolute_error(Y_test, test_data_prediction))\n",
        "print('Mean Absolute Error: ', MAE_score)\n",
        "\n",
        "\n",
        "MSE_score = metrics.mean_squared_error(Y_test, test_data_prediction)\n",
        "print('Mean Squared Error: ', MSE_score)\n",
        "\n",
        "\n",
        "R2_score = metrics.r2_score(Y_test, test_data_prediction)\n",
        "print('R2 score: ', R2_score)"
      ],
      "metadata": {
        "colab": {
          "base_uri": "https://localhost:8080/"
        },
        "id": "a-upyuCBmX-T",
        "outputId": "f995e05a-352e-4266-c64a-78fa5b30b4c0"
      },
      "execution_count": 372,
      "outputs": [
        {
          "output_type": "stream",
          "name": "stdout",
          "text": [
            "RMSE:  284014.9562050444\n",
            "Mean Absolute Error:  325.4563962820666\n",
            "Mean Squared Error:  80664495348.15329\n",
            "R2 score:  0.7002301346687541\n"
          ]
        }
      ]
    },
    {
      "cell_type": "code",
      "source": [
        "plt.scatter(Y_test, test_data_prediction)\n",
        "plt.xlabel(\"Actual Price\")\n",
        "plt.ylabel(\"Predicted Price\")\n",
        "plt.title(\" Actual Prices vs Predicted Prices\")\n",
        "plt.show()"
      ],
      "metadata": {
        "id": "Kvmn7YRJmaY8",
        "colab": {
          "base_uri": "https://localhost:8080/",
          "height": 295
        },
        "outputId": "ce84a961-ac93-4f41-add4-573e4152405b"
      },
      "execution_count": 373,
      "outputs": [
        {
          "output_type": "display_data",
          "data": {
            "image/png": "[encoded data removed]",
            "text/plain": [
              "<Figure size 432x288 with 1 Axes>"
            ]
          },
          "metadata": {
            "needs_background": "light"
          }
        }
      ]
    },
    {
      "cell_type": "markdown",
      "source": [
        "# **Extreme Gradient Boosting**"
      ],
      "metadata": {
        "id": "Kymh9cN9s_1i"
      }
    },
    {
      "cell_type": "code",
      "source": [
        "model = XGBRegressor()"
      ],
      "metadata": {
        "id": "W0gVJr_9s--4"
      },
      "execution_count": 374,
      "outputs": []
    },
    {
      "cell_type": "code",
      "source": [
        "model.fit(X_train, Y_train)"
      ],
      "metadata": {
        "colab": {
          "base_uri": "https://localhost:8080/"
        },
        "id": "MzaSd3B_tNn3",
        "outputId": "42aa09b9-f40e-437f-c62f-f1fa4219d78f"
      },
      "execution_count": 375,
      "outputs": [
        {
          "output_type": "stream",
          "name": "stdout",
          "text": [
            "[15:50:03] WARNING: /workspace/src/objective/regression_obj.cu:152: reg:linear is now deprecated in favor of reg:squarederror.\n"
          ]
        },
        {
          "output_type": "execute_result",
          "data": {
            "text/plain": [
              "XGBRegressor()"
            ]
          },
          "metadata": {},
          "execution_count": 375
        }
      ]
    },
    {
      "cell_type": "code",
      "source": [
        "training_data_prediction = model.predict(X_train)"
      ],
      "metadata": {
        "id": "NCR5zTgTtSyv"
      },
      "execution_count": 376,
      "outputs": []
    },
    {
      "cell_type": "code",
      "source": [
        "RSME_score = np.sqrt(metrics.mean_squared_error(Y_train, training_data_prediction))\n",
        "print('RMSE: ', RSME_score)\n",
        "\n",
        "MAE_score = np.sqrt(metrics.mean_absolute_error(Y_train, training_data_prediction))\n",
        "print('Mean Absolute Error: ', MAE_score)\n",
        "\n",
        "\n",
        "MSE_score = metrics.mean_squared_error(Y_train, training_data_prediction)\n",
        "print('Mean Squared Error: ', MSE_score)\n",
        "\n",
        "\n",
        "R2_score = metrics.r2_score(Y_train, training_data_prediction)\n",
        "print('R2 score: ', R2_score)"
      ],
      "metadata": {
        "colab": {
          "base_uri": "https://localhost:8080/"
        },
        "id": "ancTxRM-tYwQ",
        "outputId": "0207d22c-4f12-486d-a401-b5bc2df62cf1"
      },
      "execution_count": 377,
      "outputs": [
        {
          "output_type": "stream",
          "name": "stdout",
          "text": [
            "RMSE:  29803.682678875535\n",
            "Mean Absolute Error:  142.26445601916373\n",
            "Mean Squared Error:  888259501.2231055\n",
            "R2 score:  0.9923695338487833\n"
          ]
        }
      ]
    },
    {
      "cell_type": "code",
      "source": [
        "plt.scatter(Y_train, training_data_prediction)\n",
        "plt.xlabel(\"Actual Prices\")\n",
        "plt.ylabel(\"Predicted Prices\")\n",
        "plt.title(\"Actual Price vs Preicted Price\")\n",
        "plt.show()"
      ],
      "metadata": {
        "id": "iBpWNW0gtoyX",
        "colab": {
          "base_uri": "https://localhost:8080/",
          "height": 295
        },
        "outputId": "68ebd6c3-c13e-4c43-8f0e-4ec1c23c7b5c"
      },
      "execution_count": 378,
      "outputs": [
        {
          "output_type": "display_data",
          "data": {
            "image/png": "[encoded data removed]",
            "text/plain": [
              "<Figure size 432x288 with 1 Axes>"
            ]
          },
          "metadata": {
            "needs_background": "light"
          }
        }
      ]
    },
    {
      "cell_type": "code",
      "source": [
        "test_data_prediction = model.predict(X_test)"
      ],
      "metadata": {
        "id": "FAoOa-0xty-_"
      },
      "execution_count": 379,
      "outputs": []
    },
    {
      "cell_type": "code",
      "source": [
        "RSME_score = np.sqrt(metrics.mean_squared_error(Y_test, test_data_prediction))\n",
        "print('RMSE: ', RSME_score)\n",
        "\n",
        "MAE_score = np.sqrt(metrics.mean_absolute_error(Y_test, test_data_prediction))\n",
        "print('Mean Absolute Error: ', MAE_score)\n",
        "\n",
        "\n",
        "MSE_score = metrics.mean_squared_error(Y_test, test_data_prediction)\n",
        "print('Mean Squared Error: ', MSE_score)\n",
        "\n",
        "\n",
        "R2_score = metrics.r2_score(Y_test, test_data_prediction)\n",
        "print('R2 score: ', R2_score)"
      ],
      "metadata": {
        "colab": {
          "base_uri": "https://localhost:8080/"
        },
        "id": "dyiWOSHat2xB",
        "outputId": "57b54918-2560-4bc7-bc2e-6be56acbaca6"
      },
      "execution_count": 380,
      "outputs": [
        {
          "output_type": "stream",
          "name": "stdout",
          "text": [
            "RMSE:  289541.75200909027\n",
            "Mean Absolute Error:  287.0640133626247\n",
            "Mean Squared Error:  83834426156.49352\n",
            "R2 score:  0.6884498622276487\n"
          ]
        }
      ]
    },
    {
      "cell_type": "code",
      "source": [
        "plt.scatter(Y_test, test_data_prediction)\n",
        "plt.xlabel(\"Actual Prices\")\n",
        "plt.ylabel(\"Predicted Prices\")\n",
        "plt.title(\"Actual Price vs Preicted Price\")\n",
        "plt.show()"
      ],
      "metadata": {
        "id": "NBtW8EVduA_-",
        "colab": {
          "base_uri": "https://localhost:8080/",
          "height": 295
        },
        "outputId": "1257ae9c-e0c7-415c-a64f-4b65c06f1d93"
      },
      "execution_count": 381,
      "outputs": [
        {
          "output_type": "display_data",
          "data": {
            "image/png": "[encoded data removed]",
            "text/plain": [
              "<Figure size 432x288 with 1 Axes>"
            ]
          },
          "metadata": {
            "needs_background": "light"
          }
        }
      ]
    },
    {
      "cell_type": "markdown",
      "source": [
        "# **Support Vector Machine**"
      ],
      "metadata": {
        "id": "dDdXtZWJobUr"
      }
    },
    {
      "cell_type": "code",
      "source": [
        "svr_lin = SVR(kernel='linear')\n",
        "svr_lin.fit(X_train, Y_train)\n",
        "training_data_prediction = svr_lin.predict(X_train)"
      ],
      "metadata": {
        "id": "RFh3r8abuOiY",
        "colab": {
          "base_uri": "https://localhost:8080/"
        },
        "outputId": "af2e03a0-e4e0-409a-b7e6-866adc23e44d"
      },
      "execution_count": 382,
      "outputs": [
        {
          "output_type": "stream",
          "name": "stderr",
          "text": [
            "/usr/local/lib/python3.7/dist-packages/sklearn/utils/validation.py:993: DataConversionWarning: A column-vector y was passed when a 1d array was expected. Please change the shape of y to (n_samples, ), for example using ravel().\n",
            "  y = column_or_1d(y, warn=True)\n"
          ]
        }
      ]
    },
    {
      "cell_type": "code",
      "source": [
        "RSME_score = np.sqrt(metrics.mean_squared_error(Y_train, training_data_prediction))\n",
        "print('RMSE: ', RSME_score)\n",
        "\n",
        "MAE_score = np.sqrt(metrics.mean_absolute_error(Y_train, training_data_prediction))\n",
        "print('Mean Absolute Error: ', MAE_score)\n",
        "\n",
        "\n",
        "MSE_score = metrics.mean_squared_error(Y_train, training_data_prediction)\n",
        "print('Mean Squared Error: ', MSE_score)\n",
        "\n",
        "\n",
        "R2_score = metrics.r2_score(Y_train, training_data_prediction)\n",
        "print('R2 score: ', R2_score)"
      ],
      "metadata": {
        "colab": {
          "base_uri": "https://localhost:8080/"
        },
        "id": "g8loGVejpgLI",
        "outputId": "838a3c54-ed1a-45a3-ac73-e108c102a397"
      },
      "execution_count": 383,
      "outputs": [
        {
          "output_type": "stream",
          "name": "stdout",
          "text": [
            "RMSE:  355111.10766924964\n",
            "Mean Absolute Error:  366.2351830421821\n",
            "Mean Squared Error:  126103898790.08142\n",
            "R2 score:  -0.08327749934473583\n"
          ]
        }
      ]
    },
    {
      "cell_type": "code",
      "source": [
        "plt.scatter(Y_train, training_data_prediction)\n",
        "plt.xlabel(\"Actual Prices\")\n",
        "plt.ylabel(\"Predicted Prices\")\n",
        "plt.title(\"Actual Price vs Preicted Price\")\n",
        "plt.show()"
      ],
      "metadata": {
        "id": "FrjtylTEqIi8",
        "colab": {
          "base_uri": "https://localhost:8080/",
          "height": 295
        },
        "outputId": "7a1d9778-229b-4c57-d826-2a3cdce84015"
      },
      "execution_count": 384,
      "outputs": [
        {
          "output_type": "display_data",
          "data": {
            "image/png": "[encoded data removed]",
            "text/plain": [
              "<Figure size 432x288 with 1 Axes>"
            ]
          },
          "metadata": {
            "needs_background": "light"
          }
        }
      ]
    },
    {
      "cell_type": "code",
      "source": [
        "test_data_prediction = model.predict(X_test)"
      ],
      "metadata": {
        "id": "AnfawMPe6yn4"
      },
      "execution_count": 385,
      "outputs": []
    },
    {
      "cell_type": "code",
      "source": [
        "RSME_score = np.sqrt(metrics.mean_squared_error(Y_test, test_data_prediction))\n",
        "print('RMSE: ', RSME_score)\n",
        "\n",
        "MAE_score = np.sqrt(metrics.mean_absolute_error(Y_test, test_data_prediction))\n",
        "print('Mean Absolute Error: ', MAE_score)\n",
        "\n",
        "\n",
        "MSE_score = metrics.mean_squared_error(Y_test, test_data_prediction)\n",
        "print('Mean Squared Error: ', MSE_score)\n",
        "\n",
        "\n",
        "R2_score = metrics.r2_score(Y_test, test_data_prediction)\n",
        "print('R2 score: ', R2_score)"
      ],
      "metadata": {
        "colab": {
          "base_uri": "https://localhost:8080/"
        },
        "id": "-iZNERBo6zgQ",
        "outputId": "0add1503-1429-4e15-9649-7e193bd3c8a3"
      },
      "execution_count": 386,
      "outputs": [
        {
          "output_type": "stream",
          "name": "stdout",
          "text": [
            "RMSE:  289541.75200909027\n",
            "Mean Absolute Error:  287.0640133626247\n",
            "Mean Squared Error:  83834426156.49352\n",
            "R2 score:  0.6884498622276487\n"
          ]
        }
      ]
    },
    {
      "cell_type": "code",
      "source": [
        "plt.scatter(Y_test, test_data_prediction)\n",
        "plt.xlabel(\"Actual Prices\")\n",
        "plt.ylabel(\"Predicted Prices\")\n",
        "plt.title(\"Actual Price vs Preicted Price\")\n",
        "plt.show()"
      ],
      "metadata": {
        "colab": {
          "base_uri": "https://localhost:8080/",
          "height": 295
        },
        "id": "H2P-ukReaFqo",
        "outputId": "452ff70f-bbaa-4ab2-922b-c10f01f55254"
      },
      "execution_count": 387,
      "outputs": [
        {
          "output_type": "display_data",
          "data": {
            "image/png": "[encoded data removed]",
            "text/plain": [
              "<Figure size 432x288 with 1 Axes>"
            ]
          },
          "metadata": {
            "needs_background": "light"
          }
        }
      ]
    },
    {
      "cell_type": "markdown",
      "source": [
        "# **Bayesian regression**"
      ],
      "metadata": {
        "id": "Y3BDk17zsQQq"
      }
    },
    {
      "cell_type": "code",
      "source": [
        "bay = linear_model.BayesianRidge()\n",
        "bay.fit(X_train, Y_train)\n",
        "training_data_prediction = bay.predict(X_train)"
      ],
      "metadata": {
        "id": "myT_cGpcsTMO",
        "colab": {
          "base_uri": "https://localhost:8080/"
        },
        "outputId": "74e74766-5733-4597-f87e-70b6244a9d4f"
      },
      "execution_count": 388,
      "outputs": [
        {
          "output_type": "stream",
          "name": "stderr",
          "text": [
            "/usr/local/lib/python3.7/dist-packages/sklearn/utils/validation.py:993: DataConversionWarning: A column-vector y was passed when a 1d array was expected. Please change the shape of y to (n_samples, ), for example using ravel().\n",
            "  y = column_or_1d(y, warn=True)\n"
          ]
        }
      ]
    },
    {
      "cell_type": "code",
      "source": [
        "RSME_score = np.sqrt(metrics.mean_squared_error(Y_train, training_data_prediction))\n",
        "print('RMSE: ', RSME_score)\n",
        "\n",
        "MAE_score = np.sqrt(metrics.mean_absolute_error(Y_train, training_data_prediction))\n",
        "print('Mean Absolute Error: ', MAE_score)\n",
        "\n",
        "\n",
        "MSE_score = metrics.mean_squared_error(Y_train, training_data_prediction)\n",
        "print('Mean Squared Error: ', MSE_score)\n",
        "\n",
        "\n",
        "R2_score = metrics.r2_score(Y_train, training_data_prediction)\n",
        "print('R2 score: ', R2_score)"
      ],
      "metadata": {
        "colab": {
          "base_uri": "https://localhost:8080/"
        },
        "id": "x_RUsBVssev-",
        "outputId": "6660212f-d786-4c84-dfbb-8838255eb5c6"
      },
      "execution_count": 389,
      "outputs": [
        {
          "output_type": "stream",
          "name": "stdout",
          "text": [
            "RMSE:  341188.508749054\n",
            "Mean Absolute Error:  411.89334179444205\n",
            "Mean Squared Error:  116409598502.4033\n",
            "R2 score:  1.9565815634337014e-10\n"
          ]
        }
      ]
    },
    {
      "cell_type": "code",
      "source": [
        "test_data_prediction = model.predict(X_test)"
      ],
      "metadata": {
        "id": "uDTSkcD96-e6"
      },
      "execution_count": 390,
      "outputs": []
    },
    {
      "cell_type": "code",
      "source": [
        "RSME_score = np.sqrt(metrics.mean_squared_error(Y_test, test_data_prediction))\n",
        "print('RMSE: ', RSME_score)\n",
        "\n",
        "MAE_score = np.sqrt(metrics.mean_absolute_error(Y_test, test_data_prediction))\n",
        "print('Mean Absolute Error: ', MAE_score)\n",
        "\n",
        "\n",
        "MSE_score = metrics.mean_squared_error(Y_test, test_data_prediction)\n",
        "print('Mean Squared Error: ', MSE_score)\n",
        "\n",
        "\n",
        "R2_score = metrics.r2_score(Y_test, test_data_prediction)\n",
        "print('R2 score: ', R2_score)"
      ],
      "metadata": {
        "colab": {
          "base_uri": "https://localhost:8080/"
        },
        "id": "a2Nz1dcH7BPQ",
        "outputId": "e0cfba28-d337-40ff-d616-5c7222eb1344"
      },
      "execution_count": 391,
      "outputs": [
        {
          "output_type": "stream",
          "name": "stdout",
          "text": [
            "RMSE:  289541.75200909027\n",
            "Mean Absolute Error:  287.0640133626247\n",
            "Mean Squared Error:  83834426156.49352\n",
            "R2 score:  0.6884498622276487\n"
          ]
        }
      ]
    },
    {
      "cell_type": "code",
      "source": [
        "plt.scatter(Y_test, test_data_prediction)\n",
        "plt.xlabel(\"Actual Prices\")\n",
        "plt.ylabel(\"Predicted Prices\")\n",
        "plt.title(\"Actual Price vs Preicted Price\")\n",
        "plt.show()"
      ],
      "metadata": {
        "colab": {
          "base_uri": "https://localhost:8080/",
          "height": 295
        },
        "id": "J6VDoQ1CaMUM",
        "outputId": "ea036cf4-5cd6-476d-cfa1-5a024813e5e7"
      },
      "execution_count": 392,
      "outputs": [
        {
          "output_type": "display_data",
          "data": {
            "image/png": "[encoded data removed]",
            "text/plain": [
              "<Figure size 432x288 with 1 Axes>"
            ]
          },
          "metadata": {
            "needs_background": "light"
          }
        }
      ]
    },
    {
      "cell_type": "markdown",
      "source": [
        "# **Ada Boost**"
      ],
      "metadata": {
        "id": "HXbYHaJP2aae"
      }
    },
    {
      "cell_type": "code",
      "source": [
        "from sklearn.ensemble import AdaBoostRegressor\n",
        "\n",
        "Ada_Boost = AdaBoostRegressor()\n",
        "Ada_Boost.fit(X_train, Y_train)\n",
        "training_data_prediction = Ada_Boost.predict(X_train)"
      ],
      "metadata": {
        "id": "Qx3NOggE2aGz",
        "colab": {
          "base_uri": "https://localhost:8080/"
        },
        "outputId": "d6a59077-e061-4ca0-c253-48b1f96c36f7"
      },
      "execution_count": 393,
      "outputs": [
        {
          "output_type": "stream",
          "name": "stderr",
          "text": [
            "/usr/local/lib/python3.7/dist-packages/sklearn/utils/validation.py:993: DataConversionWarning: A column-vector y was passed when a 1d array was expected. Please change the shape of y to (n_samples, ), for example using ravel().\n",
            "  y = column_or_1d(y, warn=True)\n"
          ]
        }
      ]
    },
    {
      "cell_type": "code",
      "source": [
        "RSME_score = np.sqrt(metrics.mean_squared_error(Y_train, training_data_prediction))\n",
        "print('RMSE: ', RSME_score)\n",
        "\n",
        "MAE_score = np.sqrt(metrics.mean_absolute_error(Y_train, training_data_prediction))\n",
        "print('Mean Absolute Error: ', MAE_score)\n",
        "\n",
        "\n",
        "MSE_score = metrics.mean_squared_error(Y_train, training_data_prediction)\n",
        "print('Mean Squared Error: ', MSE_score)\n",
        "\n",
        "\n",
        "R2_score = metrics.r2_score(Y_train, training_data_prediction)\n",
        "print('R2 score: ', R2_score)"
      ],
      "metadata": {
        "colab": {
          "base_uri": "https://localhost:8080/"
        },
        "id": "cHJhKOqR2wts",
        "outputId": "7435f722-1917-4e67-e9cc-1af2ac9474ad"
      },
      "execution_count": 394,
      "outputs": [
        {
          "output_type": "stream",
          "name": "stdout",
          "text": [
            "RMSE:  60482.63289238469\n",
            "Mean Absolute Error:  222.473519508459\n",
            "Mean Squared Error:  3658148881.594974\n",
            "R2 score:  0.9685751954483057\n"
          ]
        }
      ]
    },
    {
      "cell_type": "code",
      "source": [
        "test_data_prediction = lin_reg_model.predict(X_test)"
      ],
      "metadata": {
        "id": "0FsR4RG53IVo"
      },
      "execution_count": 395,
      "outputs": []
    },
    {
      "cell_type": "code",
      "source": [
        "RSME_score = np.sqrt(metrics.mean_squared_error(Y_test, test_data_prediction))\n",
        "print('RMSE: ', RSME_score)\n",
        "\n",
        "MAE_score = np.sqrt(metrics.mean_absolute_error(Y_test, test_data_prediction))\n",
        "print('Mean Absolute Error: ', MAE_score)\n",
        "\n",
        "\n",
        "MSE_score = metrics.mean_squared_error(Y_test, test_data_prediction)\n",
        "print('Mean Squared Error: ', MSE_score)\n",
        "\n",
        "\n",
        "R2_score = metrics.r2_score(Y_test, test_data_prediction)\n",
        "print('R2 score: ', R2_score)"
      ],
      "metadata": {
        "colab": {
          "base_uri": "https://localhost:8080/"
        },
        "id": "aSBkscOS3NvT",
        "outputId": "f48dcf9d-f65f-49d9-dec6-edce180095d9"
      },
      "execution_count": 396,
      "outputs": [
        {
          "output_type": "stream",
          "name": "stdout",
          "text": [
            "RMSE:  284011.9614436008\n",
            "Mean Absolute Error:  325.4567374257231\n",
            "Mean Squared Error:  80662794243.0414\n",
            "R2 score:  0.7002364564097889\n"
          ]
        }
      ]
    },
    {
      "cell_type": "code",
      "source": [
        "plt.scatter(Y_test, test_data_prediction)\n",
        "plt.xlabel(\"Actual Prices\")\n",
        "plt.ylabel(\"Predicted Prices\")\n",
        "plt.title(\"Actual Price vs Preicted Price\")\n",
        "plt.show()"
      ],
      "metadata": {
        "id": "6WTHUgyOaQzg",
        "outputId": "30025e5d-6984-44a2-8c9d-fbd97ac4ae77",
        "colab": {
          "base_uri": "https://localhost:8080/",
          "height": 295
        }
      },
      "execution_count": 397,
      "outputs": [
        {
          "output_type": "display_data",
          "data": {
            "image/png": "[encoded data removed]",
            "text/plain": [
              "<Figure size 432x288 with 1 Axes>"
            ]
          },
          "metadata": {
            "needs_background": "light"
          }
        }
      ]
    }
  ]
}